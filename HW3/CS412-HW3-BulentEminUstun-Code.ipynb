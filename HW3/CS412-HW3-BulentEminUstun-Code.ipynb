{
  "nbformat": 4,
  "nbformat_minor": 0,
  "metadata": {
    "colab": {
      "provenance": []
    },
    "kernelspec": {
      "name": "python3",
      "display_name": "Python 3"
    },
    "language_info": {
      "name": "python"
    }
  },
  "cells": [
    {
      "cell_type": "markdown",
      "source": [
        "**1.)** Load the dataset and preprocess the data:\n",
        "- Set your random seed to 42.\n",
        "- Split the data into training, validation and test sets (60% , 20% , 20% ).\n",
        "- As the data ranges vary significantly across the feature dimensions, you should scale your features. Scale them linearly within the 0-1 range. Be careful not to include the test data when scaling. You can use StandartScaler for that."
      ],
      "metadata": {
        "id": "zt3d6fErmkZ1"
      }
    },
    {
      "cell_type": "code",
      "execution_count": null,
      "metadata": {
        "id": "KcW9pi56lodt"
      },
      "outputs": [],
      "source": [
        "import pandas as pd\n",
        "import warnings\n",
        "\n",
        "\n",
        "df = pd.read_csv(\"titanicdata.csv\", encoding=\"utf-8\")"
      ]
    },
    {
      "cell_type": "code",
      "source": [
        "df.head(5)"
      ],
      "metadata": {
        "id": "V9SYZrTD3oH2",
        "outputId": "e3b6f8a8-c49b-4f29-c545-556e94f43149",
        "colab": {
          "base_uri": "https://localhost:8080/",
          "height": 206
        }
      },
      "execution_count": null,
      "outputs": [
        {
          "output_type": "execute_result",
          "data": {
            "text/plain": [
              "   Survived  Pclass  Sex   Age\n",
              "0         0       3    2  22.0\n",
              "1         1       1    1  38.0\n",
              "2         1       3    1  26.0\n",
              "3         1       1    1  35.0\n",
              "4         0       3    2  35.0"
            ],
            "text/html": [
              "\n",
              "  <div id=\"df-1f31349a-f73f-4ddb-aff1-9551db9fe264\" class=\"colab-df-container\">\n",
              "    <div>\n",
              "<style scoped>\n",
              "    .dataframe tbody tr th:only-of-type {\n",
              "        vertical-align: middle;\n",
              "    }\n",
              "\n",
              "    .dataframe tbody tr th {\n",
              "        vertical-align: top;\n",
              "    }\n",
              "\n",
              "    .dataframe thead th {\n",
              "        text-align: right;\n",
              "    }\n",
              "</style>\n",
              "<table border=\"1\" class=\"dataframe\">\n",
              "  <thead>\n",
              "    <tr style=\"text-align: right;\">\n",
              "      <th></th>\n",
              "      <th>Survived</th>\n",
              "      <th>Pclass</th>\n",
              "      <th>Sex</th>\n",
              "      <th>Age</th>\n",
              "    </tr>\n",
              "  </thead>\n",
              "  <tbody>\n",
              "    <tr>\n",
              "      <th>0</th>\n",
              "      <td>0</td>\n",
              "      <td>3</td>\n",
              "      <td>2</td>\n",
              "      <td>22.0</td>\n",
              "    </tr>\n",
              "    <tr>\n",
              "      <th>1</th>\n",
              "      <td>1</td>\n",
              "      <td>1</td>\n",
              "      <td>1</td>\n",
              "      <td>38.0</td>\n",
              "    </tr>\n",
              "    <tr>\n",
              "      <th>2</th>\n",
              "      <td>1</td>\n",
              "      <td>3</td>\n",
              "      <td>1</td>\n",
              "      <td>26.0</td>\n",
              "    </tr>\n",
              "    <tr>\n",
              "      <th>3</th>\n",
              "      <td>1</td>\n",
              "      <td>1</td>\n",
              "      <td>1</td>\n",
              "      <td>35.0</td>\n",
              "    </tr>\n",
              "    <tr>\n",
              "      <th>4</th>\n",
              "      <td>0</td>\n",
              "      <td>3</td>\n",
              "      <td>2</td>\n",
              "      <td>35.0</td>\n",
              "    </tr>\n",
              "  </tbody>\n",
              "</table>\n",
              "</div>\n",
              "    <div class=\"colab-df-buttons\">\n",
              "\n",
              "  <div class=\"colab-df-container\">\n",
              "    <button class=\"colab-df-convert\" onclick=\"convertToInteractive('df-1f31349a-f73f-4ddb-aff1-9551db9fe264')\"\n",
              "            title=\"Convert this dataframe to an interactive table.\"\n",
              "            style=\"display:none;\">\n",
              "\n",
              "  <svg xmlns=\"http://www.w3.org/2000/svg\" height=\"24px\" viewBox=\"0 -960 960 960\">\n",
              "    <path d=\"M120-120v-720h720v720H120Zm60-500h600v-160H180v160Zm220 220h160v-160H400v160Zm0 220h160v-160H400v160ZM180-400h160v-160H180v160Zm440 0h160v-160H620v160ZM180-180h160v-160H180v160Zm440 0h160v-160H620v160Z\"/>\n",
              "  </svg>\n",
              "    </button>\n",
              "\n",
              "  <style>\n",
              "    .colab-df-container {\n",
              "      display:flex;\n",
              "      gap: 12px;\n",
              "    }\n",
              "\n",
              "    .colab-df-convert {\n",
              "      background-color: #E8F0FE;\n",
              "      border: none;\n",
              "      border-radius: 50%;\n",
              "      cursor: pointer;\n",
              "      display: none;\n",
              "      fill: #1967D2;\n",
              "      height: 32px;\n",
              "      padding: 0 0 0 0;\n",
              "      width: 32px;\n",
              "    }\n",
              "\n",
              "    .colab-df-convert:hover {\n",
              "      background-color: #E2EBFA;\n",
              "      box-shadow: 0px 1px 2px rgba(60, 64, 67, 0.3), 0px 1px 3px 1px rgba(60, 64, 67, 0.15);\n",
              "      fill: #174EA6;\n",
              "    }\n",
              "\n",
              "    .colab-df-buttons div {\n",
              "      margin-bottom: 4px;\n",
              "    }\n",
              "\n",
              "    [theme=dark] .colab-df-convert {\n",
              "      background-color: #3B4455;\n",
              "      fill: #D2E3FC;\n",
              "    }\n",
              "\n",
              "    [theme=dark] .colab-df-convert:hover {\n",
              "      background-color: #434B5C;\n",
              "      box-shadow: 0px 1px 3px 1px rgba(0, 0, 0, 0.15);\n",
              "      filter: drop-shadow(0px 1px 2px rgba(0, 0, 0, 0.3));\n",
              "      fill: #FFFFFF;\n",
              "    }\n",
              "  </style>\n",
              "\n",
              "    <script>\n",
              "      const buttonEl =\n",
              "        document.querySelector('#df-1f31349a-f73f-4ddb-aff1-9551db9fe264 button.colab-df-convert');\n",
              "      buttonEl.style.display =\n",
              "        google.colab.kernel.accessAllowed ? 'block' : 'none';\n",
              "\n",
              "      async function convertToInteractive(key) {\n",
              "        const element = document.querySelector('#df-1f31349a-f73f-4ddb-aff1-9551db9fe264');\n",
              "        const dataTable =\n",
              "          await google.colab.kernel.invokeFunction('convertToInteractive',\n",
              "                                                    [key], {});\n",
              "        if (!dataTable) return;\n",
              "\n",
              "        const docLinkHtml = 'Like what you see? Visit the ' +\n",
              "          '<a target=\"_blank\" href=https://colab.research.google.com/notebooks/data_table.ipynb>data table notebook</a>'\n",
              "          + ' to learn more about interactive tables.';\n",
              "        element.innerHTML = '';\n",
              "        dataTable['output_type'] = 'display_data';\n",
              "        await google.colab.output.renderOutput(dataTable, element);\n",
              "        const docLink = document.createElement('div');\n",
              "        docLink.innerHTML = docLinkHtml;\n",
              "        element.appendChild(docLink);\n",
              "      }\n",
              "    </script>\n",
              "  </div>\n",
              "\n",
              "\n",
              "<div id=\"df-c0bdd69f-66ff-43e6-be41-10b8d5f382a1\">\n",
              "  <button class=\"colab-df-quickchart\" onclick=\"quickchart('df-c0bdd69f-66ff-43e6-be41-10b8d5f382a1')\"\n",
              "            title=\"Suggest charts\"\n",
              "            style=\"display:none;\">\n",
              "\n",
              "<svg xmlns=\"http://www.w3.org/2000/svg\" height=\"24px\"viewBox=\"0 0 24 24\"\n",
              "     width=\"24px\">\n",
              "    <g>\n",
              "        <path d=\"M19 3H5c-1.1 0-2 .9-2 2v14c0 1.1.9 2 2 2h14c1.1 0 2-.9 2-2V5c0-1.1-.9-2-2-2zM9 17H7v-7h2v7zm4 0h-2V7h2v10zm4 0h-2v-4h2v4z\"/>\n",
              "    </g>\n",
              "</svg>\n",
              "  </button>\n",
              "\n",
              "<style>\n",
              "  .colab-df-quickchart {\n",
              "      --bg-color: #E8F0FE;\n",
              "      --fill-color: #1967D2;\n",
              "      --hover-bg-color: #E2EBFA;\n",
              "      --hover-fill-color: #174EA6;\n",
              "      --disabled-fill-color: #AAA;\n",
              "      --disabled-bg-color: #DDD;\n",
              "  }\n",
              "\n",
              "  [theme=dark] .colab-df-quickchart {\n",
              "      --bg-color: #3B4455;\n",
              "      --fill-color: #D2E3FC;\n",
              "      --hover-bg-color: #434B5C;\n",
              "      --hover-fill-color: #FFFFFF;\n",
              "      --disabled-bg-color: #3B4455;\n",
              "      --disabled-fill-color: #666;\n",
              "  }\n",
              "\n",
              "  .colab-df-quickchart {\n",
              "    background-color: var(--bg-color);\n",
              "    border: none;\n",
              "    border-radius: 50%;\n",
              "    cursor: pointer;\n",
              "    display: none;\n",
              "    fill: var(--fill-color);\n",
              "    height: 32px;\n",
              "    padding: 0;\n",
              "    width: 32px;\n",
              "  }\n",
              "\n",
              "  .colab-df-quickchart:hover {\n",
              "    background-color: var(--hover-bg-color);\n",
              "    box-shadow: 0 1px 2px rgba(60, 64, 67, 0.3), 0 1px 3px 1px rgba(60, 64, 67, 0.15);\n",
              "    fill: var(--button-hover-fill-color);\n",
              "  }\n",
              "\n",
              "  .colab-df-quickchart-complete:disabled,\n",
              "  .colab-df-quickchart-complete:disabled:hover {\n",
              "    background-color: var(--disabled-bg-color);\n",
              "    fill: var(--disabled-fill-color);\n",
              "    box-shadow: none;\n",
              "  }\n",
              "\n",
              "  .colab-df-spinner {\n",
              "    border: 2px solid var(--fill-color);\n",
              "    border-color: transparent;\n",
              "    border-bottom-color: var(--fill-color);\n",
              "    animation:\n",
              "      spin 1s steps(1) infinite;\n",
              "  }\n",
              "\n",
              "  @keyframes spin {\n",
              "    0% {\n",
              "      border-color: transparent;\n",
              "      border-bottom-color: var(--fill-color);\n",
              "      border-left-color: var(--fill-color);\n",
              "    }\n",
              "    20% {\n",
              "      border-color: transparent;\n",
              "      border-left-color: var(--fill-color);\n",
              "      border-top-color: var(--fill-color);\n",
              "    }\n",
              "    30% {\n",
              "      border-color: transparent;\n",
              "      border-left-color: var(--fill-color);\n",
              "      border-top-color: var(--fill-color);\n",
              "      border-right-color: var(--fill-color);\n",
              "    }\n",
              "    40% {\n",
              "      border-color: transparent;\n",
              "      border-right-color: var(--fill-color);\n",
              "      border-top-color: var(--fill-color);\n",
              "    }\n",
              "    60% {\n",
              "      border-color: transparent;\n",
              "      border-right-color: var(--fill-color);\n",
              "    }\n",
              "    80% {\n",
              "      border-color: transparent;\n",
              "      border-right-color: var(--fill-color);\n",
              "      border-bottom-color: var(--fill-color);\n",
              "    }\n",
              "    90% {\n",
              "      border-color: transparent;\n",
              "      border-bottom-color: var(--fill-color);\n",
              "    }\n",
              "  }\n",
              "</style>\n",
              "\n",
              "  <script>\n",
              "    async function quickchart(key) {\n",
              "      const quickchartButtonEl =\n",
              "        document.querySelector('#' + key + ' button');\n",
              "      quickchartButtonEl.disabled = true;  // To prevent multiple clicks.\n",
              "      quickchartButtonEl.classList.add('colab-df-spinner');\n",
              "      try {\n",
              "        const charts = await google.colab.kernel.invokeFunction(\n",
              "            'suggestCharts', [key], {});\n",
              "      } catch (error) {\n",
              "        console.error('Error during call to suggestCharts:', error);\n",
              "      }\n",
              "      quickchartButtonEl.classList.remove('colab-df-spinner');\n",
              "      quickchartButtonEl.classList.add('colab-df-quickchart-complete');\n",
              "    }\n",
              "    (() => {\n",
              "      let quickchartButtonEl =\n",
              "        document.querySelector('#df-c0bdd69f-66ff-43e6-be41-10b8d5f382a1 button');\n",
              "      quickchartButtonEl.style.display =\n",
              "        google.colab.kernel.accessAllowed ? 'block' : 'none';\n",
              "    })();\n",
              "  </script>\n",
              "</div>\n",
              "    </div>\n",
              "  </div>\n"
            ],
            "application/vnd.google.colaboratory.intrinsic+json": {
              "type": "dataframe",
              "variable_name": "df",
              "summary": "{\n  \"name\": \"df\",\n  \"rows\": 891,\n  \"fields\": [\n    {\n      \"column\": \"Survived\",\n      \"properties\": {\n        \"dtype\": \"number\",\n        \"std\": 0,\n        \"min\": 0,\n        \"max\": 1,\n        \"num_unique_values\": 2,\n        \"samples\": [\n          1,\n          0\n        ],\n        \"semantic_type\": \"\",\n        \"description\": \"\"\n      }\n    },\n    {\n      \"column\": \"Pclass\",\n      \"properties\": {\n        \"dtype\": \"number\",\n        \"std\": 0,\n        \"min\": 1,\n        \"max\": 3,\n        \"num_unique_values\": 3,\n        \"samples\": [\n          3,\n          1\n        ],\n        \"semantic_type\": \"\",\n        \"description\": \"\"\n      }\n    },\n    {\n      \"column\": \"Sex\",\n      \"properties\": {\n        \"dtype\": \"number\",\n        \"std\": 0,\n        \"min\": 1,\n        \"max\": 2,\n        \"num_unique_values\": 2,\n        \"samples\": [\n          1,\n          2\n        ],\n        \"semantic_type\": \"\",\n        \"description\": \"\"\n      }\n    },\n    {\n      \"column\": \"Age\",\n      \"properties\": {\n        \"dtype\": \"number\",\n        \"std\": 13.002015226002884,\n        \"min\": 0.42,\n        \"max\": 80.0,\n        \"num_unique_values\": 89,\n        \"samples\": [\n          59.0,\n          36.5\n        ],\n        \"semantic_type\": \"\",\n        \"description\": \"\"\n      }\n    }\n  ]\n}"
            }
          },
          "metadata": {},
          "execution_count": 231
        }
      ]
    },
    {
      "cell_type": "code",
      "source": [
        "from sklearn import metrics\n",
        "import matplotlib.pyplot as plt\n",
        "from sklearn.model_selection import train_test_split\n",
        "\n",
        "\n",
        "random_seed = 42\n",
        "\n",
        "# We will predict the column='Survived'. That's why, we will drop it from the training data.\n",
        "X = df.drop(columns=['Survived'])\n",
        "y = df['Survived']\n",
        "\n",
        "# train test split\n",
        "X_train, X_temp, y_train, y_temp = train_test_split(X, y, train_size=0.6, random_state=random_seed)\n",
        "X_val, X_test, y_val, y_test = train_test_split(X_temp, y_temp, test_size=0.5, random_state=random_seed)"
      ],
      "metadata": {
        "id": "O7gUUo0lni6C"
      },
      "execution_count": null,
      "outputs": []
    },
    {
      "cell_type": "code",
      "source": [
        "# Checking the number of rows\n",
        "print(\"Row count of dataset:\", len(df))"
      ],
      "metadata": {
        "colab": {
          "base_uri": "https://localhost:8080/"
        },
        "id": "LjJqznCdsWtH",
        "outputId": "327a5093-63b2-403e-f629-168c91e78ea5"
      },
      "execution_count": null,
      "outputs": [
        {
          "output_type": "stream",
          "name": "stdout",
          "text": [
            "Row count of dataset: 891\n"
          ]
        }
      ]
    },
    {
      "cell_type": "code",
      "source": [
        "# Be sure that they are splitted correctly\n",
        "\n",
        "print(\"Train data = \", X_train.shape, y_train.shape)\n",
        "print(\"Test data = \", X_test.shape, y_test.shape)\n",
        "print(\"Validation data = \", X_val.shape, y_val.shape)"
      ],
      "metadata": {
        "colab": {
          "base_uri": "https://localhost:8080/"
        },
        "id": "OnPrtimdrCL3",
        "outputId": "281d3118-f9f9-4519-e1b5-6f31b5906671"
      },
      "execution_count": null,
      "outputs": [
        {
          "output_type": "stream",
          "name": "stdout",
          "text": [
            "Train data =  (534, 3) (534,)\n",
            "Test data =  (179, 3) (179,)\n",
            "Validation data =  (178, 3) (178,)\n"
          ]
        }
      ]
    },
    {
      "cell_type": "code",
      "source": [
        "from sklearn.preprocessing import StandardScaler, MinMaxScaler\n",
        "\n",
        "# This is better than StandardScaler and it is also advised.\n",
        "scaler = MinMaxScaler()\n",
        "\n",
        "# We do not scale the target variables y_train, y_val, y_test\n",
        "\n",
        "X_train = scaler.fit_transform(X_train)\n",
        "X_test = scaler.transform(X_test)\n",
        "X_val = scaler.fit_transform(X_val)"
      ],
      "metadata": {
        "id": "H7GE9qvfrN22"
      },
      "execution_count": null,
      "outputs": []
    },
    {
      "cell_type": "code",
      "source": [
        "# See the details, checking if they are scaled correctly\n",
        "\n",
        "print(\"X_train:\\n\\n\", X_train[0:5], \"\\n\")\n",
        "print(\"-------------------------\\n\")\n",
        "print(\"X_test:\\n\\n\",X_test[0:5], \"\\n\")\n",
        "print(\"-------------------------\\n\")\n",
        "print(\"X_val:\\n\\n\",X_val[0:5])"
      ],
      "metadata": {
        "colab": {
          "base_uri": "https://localhost:8080/"
        },
        "id": "FWdV3T8It40p",
        "outputId": "5de7423d-e550-43d8-d8ee-8333b94da718"
      },
      "execution_count": null,
      "outputs": [
        {
          "output_type": "stream",
          "name": "stdout",
          "text": [
            "X_train:\n",
            "\n",
            " [[0.5        1.         0.77381252]\n",
            " [1.         1.         0.09525006]\n",
            " [1.         1.         0.39683338]\n",
            " [1.         0.         0.24604172]\n",
            " [0.5        0.         0.34656949]] \n",
            "\n",
            "-------------------------\n",
            "\n",
            "X_test:\n",
            "\n",
            " [[1.         1.         0.22090978]\n",
            " [1.         1.         0.36792055]\n",
            " [1.         1.         0.50364413]\n",
            " [1.         0.         0.3842674 ]\n",
            " [0.5        1.         0.39683338]] \n",
            "\n",
            "-------------------------\n",
            "\n",
            "X_val:\n",
            "\n",
            " [[0.         0.         0.41141681]\n",
            " [0.         1.         0.63659684]\n",
            " [1.         1.         0.41141681]\n",
            " [0.5        0.         0.33019809]\n",
            " [0.5        1.         0.50121134]]\n"
          ]
        }
      ]
    },
    {
      "cell_type": "markdown",
      "source": [
        "**2.)** Implement the logistic regression model:\n",
        "- Initialize the model parameters w.\n",
        "\n",
        "- Implement the sigmoid function, σ(z) = 1 / (1+e^(-z)) , where z is the linear combination of the input features and the model parameters w.\n",
        "\n",
        "- Implement the cost function.\n",
        "\n",
        "- Implement the gradient descent algorithm to minimize the cost function, updating the parameters."
      ],
      "metadata": {
        "id": "xbUhhlM-wc4W"
      }
    },
    {
      "cell_type": "code",
      "source": [
        "import numpy as np\n",
        "\n",
        "num_features = X_train.shape[1]\n",
        "\n",
        "# Randomly creating weights.\n",
        "weights = np.random.randn(num_features)\n",
        "\n",
        "print(\"The weights are:\", weights) # In here, I am just checking how does np.random.rand creates the array."
      ],
      "metadata": {
        "colab": {
          "base_uri": "https://localhost:8080/"
        },
        "id": "LpKyKKriu3PI",
        "outputId": "9b178c2a-fcb2-4645-f000-722dce0fb1ae"
      },
      "execution_count": null,
      "outputs": [
        {
          "output_type": "stream",
          "name": "stdout",
          "text": [
            "The weights are: [-0.19512711  0.14803253  1.14116781]\n"
          ]
        }
      ]
    },
    {
      "cell_type": "code",
      "source": [
        "# Implementing the sigmoid function\n",
        "\n",
        "def sigmoid(z):\n",
        "\n",
        "  # Formula: 1 / (1 + e^-z)\n",
        "\n",
        "\n",
        "  return 1 / (1 + np.exp(-z))"
      ],
      "metadata": {
        "id": "lJuQ2oGdzFo7"
      },
      "execution_count": null,
      "outputs": []
    },
    {
      "cell_type": "code",
      "source": [
        "# Implementing the cost function\n",
        "\n",
        "def cost_function(y_true, x_true, weights):\n",
        "\n",
        "  m = len(y_true)  # Number of samples\n",
        "\n",
        "\n",
        "  z = np.dot(x_true, weights) # we could write this using matmul too. Nothing changes\n",
        "\n",
        "  # Computing the logistic regression\n",
        "  sigmoid_z = sigmoid(z)\n",
        "\n",
        "  # Computing the cost\n",
        "  cost = - (1/m) * np.sum(y_true * np.log(sigmoid_z) + (1 - y_true) * np.log(1 - sigmoid_z))\n",
        "\n",
        "  return cost"
      ],
      "metadata": {
        "id": "CrYQYaaE1eoX"
      },
      "execution_count": null,
      "outputs": []
    },
    {
      "cell_type": "code",
      "source": [
        "# Checking the cost function if it works as expected\n",
        "cost_function(y_train, X_train, weights)"
      ],
      "metadata": {
        "colab": {
          "base_uri": "https://localhost:8080/"
        },
        "id": "FdJKDNadqBgH",
        "outputId": "0547b88e-fda4-450d-87ef-02bba12a5ff3"
      },
      "execution_count": null,
      "outputs": [
        {
          "output_type": "execute_result",
          "data": {
            "text/plain": [
              "0.7789168459801419"
            ]
          },
          "metadata": {},
          "execution_count": 240
        }
      ]
    },
    {
      "cell_type": "code",
      "source": [
        "# Finding gradient\n",
        "def find_gradient(y_true, x_true, weights):\n",
        "  m = y_true.shape[0]\n",
        "  z = np.dot(x_true, weights)\n",
        "  sigmoid_z = sigmoid(z)\n",
        "  gradient = (1/m) * np.dot(x_true.T, (sigmoid_z - y_true))\n",
        "  return gradient"
      ],
      "metadata": {
        "id": "GND1pyOl-s7s"
      },
      "execution_count": null,
      "outputs": []
    },
    {
      "cell_type": "code",
      "source": [
        "# Checking if find_gradient works as expected\n",
        "find_gradient(y_train, X_train, weights)"
      ],
      "metadata": {
        "colab": {
          "base_uri": "https://localhost:8080/"
        },
        "id": "RV_PFe_q_Dsd",
        "outputId": "7b168378-fef8-4d66-915d-88f9a382256e"
      },
      "execution_count": null,
      "outputs": [
        {
          "output_type": "execute_result",
          "data": {
            "text/plain": [
              "array([0.19571817, 0.27897693, 0.09334434])"
            ]
          },
          "metadata": {},
          "execution_count": 242
        }
      ]
    },
    {
      "cell_type": "code",
      "source": [
        "# Implementing the gradient descent\n",
        "def gradient_descent(y_true, x_true, learning_rate, weights):\n",
        "\n",
        "  gradient = find_gradient(y_true, x_true, weights)\n",
        "  weights = weights - learning_rate * gradient\n",
        "  return weights"
      ],
      "metadata": {
        "id": "jjCF3sHFiAOI"
      },
      "execution_count": null,
      "outputs": []
    },
    {
      "cell_type": "code",
      "source": [
        "# Checking if gradient_descent works as expected\n",
        "gradient_descent(y_train, X_train, 0 ,weights)"
      ],
      "metadata": {
        "colab": {
          "base_uri": "https://localhost:8080/"
        },
        "id": "7w3DF__nmKzm",
        "outputId": "8ca5a5a5-b3f9-4078-de40-e71dad45052d"
      },
      "execution_count": null,
      "outputs": [
        {
          "output_type": "execute_result",
          "data": {
            "text/plain": [
              "array([-0.19512711,  0.14803253,  1.14116781])"
            ]
          },
          "metadata": {},
          "execution_count": 244
        }
      ]
    },
    {
      "cell_type": "markdown",
      "source": [
        "**3.)** Set the step size to 0.1. Train your model using the training data. Calculate the loss on the validation\n",
        "data. Plot both the training and validation losses across 100 iterations."
      ],
      "metadata": {
        "id": "QaPcNETGNq07"
      }
    },
    {
      "cell_type": "code",
      "source": [
        "# Setting the step size\n",
        "step_size = 0.1\n",
        "\n",
        "num_features = X_train.shape[1]\n",
        "weights = np.random.randn(num_features, 1) # Randomly assign weights\n",
        "y_train = np.array(y_train).reshape(-1, 1)\n",
        "y_val = np.array(y_val).reshape(-1, 1)\n",
        "\n",
        "training_loss_array = []\n",
        "validation_loss_array = []\n",
        "\n",
        "\n",
        "validation_data_loss = cost_function(y_val, X_val, weights) # Find validation cost for randomly assigned weights\n",
        "\n",
        "# In each iteration, add the validation loss and training loss to the arrays\n",
        "for i in range(100):\n",
        "  weights = gradient_descent(y_train, X_train, step_size, weights)\n",
        "\n",
        "  training_loss = cost_function(y_train, X_train, weights)\n",
        "  training_loss_array.append(training_loss)\n",
        "\n",
        "  validation_loss = cost_function(y_val, X_val, weights)\n",
        "  validation_loss_array.append(validation_loss)\n"
      ],
      "metadata": {
        "id": "5feYfbDVNqkQ"
      },
      "execution_count": null,
      "outputs": []
    },
    {
      "cell_type": "code",
      "source": [
        "# Validation loss without any gradient descent\n",
        "print(\"Validation data loss without gradient descent is\", validation_data_loss)"
      ],
      "metadata": {
        "colab": {
          "base_uri": "https://localhost:8080/"
        },
        "id": "gt95NnUrVA8q",
        "outputId": "18b07974-3d54-48b0-d547-d1285f63c61e"
      },
      "execution_count": null,
      "outputs": [
        {
          "output_type": "stream",
          "name": "stdout",
          "text": [
            "Validation data loss without gradient descent is 0.6413501717530481\n"
          ]
        }
      ]
    },
    {
      "cell_type": "code",
      "source": [
        "plt.title(\"Training Loss\")\n",
        "plt.plot(training_loss_array, label=\"Training Loss\")\n",
        "plt.legend()\n",
        "plt.xlabel(\"Iteration\")\n",
        "plt.ylabel(\"Loss\")"
      ],
      "metadata": {
        "colab": {
          "base_uri": "https://localhost:8080/",
          "height": 489
        },
        "id": "154rXpKgPqcD",
        "outputId": "59d7482f-7c99-4aa3-ed45-bbeda77aada2"
      },
      "execution_count": null,
      "outputs": [
        {
          "output_type": "execute_result",
          "data": {
            "text/plain": [
              "Text(0, 0.5, 'Loss')"
            ]
          },
          "metadata": {},
          "execution_count": 247
        },
        {
          "output_type": "display_data",
          "data": {
            "text/plain": [
              "<Figure size 640x480 with 1 Axes>"
            ],
            "image/png": "[encoded data removed]"
          },
          "metadata": {}
        }
      ]
    },
    {
      "cell_type": "code",
      "source": [
        "# Validation loss with gradient descent\n",
        "print(\"Validation data loss with gradient descent is\", training_loss_array[-1])"
      ],
      "metadata": {
        "colab": {
          "base_uri": "https://localhost:8080/"
        },
        "id": "MmB4g5e7qjVN",
        "outputId": "20cb776d-ddde-4974-a3af-b4c1129fcdb6"
      },
      "execution_count": null,
      "outputs": [
        {
          "output_type": "stream",
          "name": "stdout",
          "text": [
            "Validation data loss with gradient descent is 0.5534924737658858\n"
          ]
        }
      ]
    },
    {
      "cell_type": "code",
      "source": [
        "plt.title(\"Validation Loss\")\n",
        "plt.plot(validation_loss_array, label=\"Validation Loss\", color=\"red\")\n",
        "plt.legend()\n",
        "plt.xlabel(\"Iteration\")\n",
        "plt.ylabel(\"Loss\")"
      ],
      "metadata": {
        "colab": {
          "base_uri": "https://localhost:8080/",
          "height": 489
        },
        "id": "0Qp6kXZlQF94",
        "outputId": "1df2f543-6e0a-47a1-d508-089481d223f1"
      },
      "execution_count": null,
      "outputs": [
        {
          "output_type": "execute_result",
          "data": {
            "text/plain": [
              "Text(0, 0.5, 'Loss')"
            ]
          },
          "metadata": {},
          "execution_count": 249
        },
        {
          "output_type": "display_data",
          "data": {
            "text/plain": [
              "<Figure size 640x480 with 1 Axes>"
            ],
            "image/png": "[encoded data removed]"
          },
          "metadata": {}
        }
      ]
    },
    {
      "cell_type": "markdown",
      "source": [
        "**4.)** Now vary your step size and number of iterations, and calculate the validation loss in each case. Pick\n",
        "the one that gives you the best loss. Plot the loss curve across different iterations for the chosen values\n",
        "of these hyperparameters."
      ],
      "metadata": {
        "id": "d0nnHwDDmAKG"
      }
    },
    {
      "cell_type": "code",
      "source": [
        "initial_weights = np.random.randn(num_features, 1) # Again randomly assigning weights\n",
        "\n",
        "# I picked these numbers for iteration and step size\n",
        "step_size_array = [0.01, 0.1, 1, 10, 100, 1000]\n",
        "iteration_array = [100, 500, 1000, 10000]\n",
        "\n",
        "\n",
        "# In this function, it stores the values, in validation_losses[-1] it retuns the last iteration.\n",
        "def find_best_values(X_train, y_train, X_val, y_val, initial_weights, learning_rate, num_iterations):\n",
        "    weights = np.copy(initial_weights)  # Start with the initial weights for each run\n",
        "\n",
        "    validation_losses = []\n",
        "\n",
        "    for i in range(num_iterations):\n",
        "        weights = gradient_descent(y_train, X_train, learning_rate, weights)\n",
        "        val_loss = cost_function(y_val, X_val, weights)\n",
        "        validation_losses.append(val_loss)\n",
        "\n",
        "    return validation_losses[-1], validation_losses\n",
        "\n",
        "results = {} # Initializing a dictionary for results\n",
        "\n",
        "# Starting numbers to find best hyperparameters\n",
        "best_loss = 100\n",
        "best_learning_rate = -85\n",
        "best_iteration = -85\n",
        "best_loss_curve = []\n",
        "\n",
        "\n",
        "for lr in step_size_array:\n",
        "    for num_iter in iteration_array:\n",
        "        final_loss, all_losses = find_best_values(X_train, y_train, X_val, y_val, initial_weights, lr, num_iter) # Find values for each step size and iteration\n",
        "        results[(lr, num_iter)] = final_loss # Store the value in dictionary\n",
        "\n",
        "        # Finding the best parameters\n",
        "        if final_loss < best_loss:\n",
        "            best_loss = final_loss\n",
        "            best_learning_rate = lr\n",
        "            best_iteration = num_iter\n",
        "            best_loss_curve = all_losses\n",
        "\n",
        "# The best validation loss wil be printed here\n",
        "warnings.filterwarnings('ignore', category=RuntimeWarning)\n",
        "print(f\"Best Learning Rate: {best_learning_rate}, Best Iterations: {best_iteration}, Best Validation Loss: {best_loss}\")\n",
        "\n"
      ],
      "metadata": {
        "id": "gQ93O-eKmEtE",
        "colab": {
          "base_uri": "https://localhost:8080/"
        },
        "outputId": "e6594db8-e75f-4a35-d87e-8901077d5d10"
      },
      "execution_count": null,
      "outputs": [
        {
          "output_type": "stream",
          "name": "stdout",
          "text": [
            "Best Learning Rate: 0.01, Best Iterations: 10000, Best Validation Loss: 0.5767676946307794\n"
          ]
        }
      ]
    },
    {
      "cell_type": "code",
      "source": [
        "# Validation Loss graph using the best hyperparameters\n",
        "plt.plot(best_loss_curve, label=f'Best Loss Curve (Learning Rate={best_learning_rate}, Iterations={best_iteration})', color=\"c\")\n",
        "#plt.grid()\n",
        "plt.xlabel('Iteration')\n",
        "plt.ylabel('Validation Loss')\n",
        "plt.title(\"Validation Loss for the Chosen Hyperparameters\")\n",
        "plt.legend()\n",
        "plt.show()"
      ],
      "metadata": {
        "colab": {
          "base_uri": "https://localhost:8080/",
          "height": 472
        },
        "id": "UYFwkub0a5td",
        "outputId": "eb248fd9-d7d8-426c-da4c-5197e649e277"
      },
      "execution_count": null,
      "outputs": [
        {
          "output_type": "display_data",
          "data": {
            "text/plain": [
              "<Figure size 640x480 with 1 Axes>"
            ],
            "image/png": "[encoded data removed]"
          },
          "metadata": {}
        }
      ]
    },
    {
      "cell_type": "markdown",
      "source": [
        "**5.)** Combine the validation and training data and retrain the final model with the chosen hyperparameters."
      ],
      "metadata": {
        "id": "lLWX9Ok2gYm5"
      }
    },
    {
      "cell_type": "code",
      "source": [
        "# Combining train and validation data\n",
        "X_train = np.concatenate([X_train, X_val])\n",
        "y_train = np.concatenate([y_train, y_val])"
      ],
      "metadata": {
        "id": "F2N7E_B4ge9p"
      },
      "execution_count": null,
      "outputs": []
    },
    {
      "cell_type": "code",
      "source": [
        "# Checking if they concatenated as expected\n",
        "print(\"Train data = \", X_train.shape, y_train.shape)\n",
        "print(\"Test data = \", X_test.shape, y_test.shape)\n",
        "print(\"Validation data = \", X_val.shape, y_val.shape)"
      ],
      "metadata": {
        "colab": {
          "base_uri": "https://localhost:8080/"
        },
        "id": "E4aNm0qHhJ3d",
        "outputId": "d9003a12-956e-4dca-f206-1fa0ba993325"
      },
      "execution_count": null,
      "outputs": [
        {
          "output_type": "stream",
          "name": "stdout",
          "text": [
            "Train data =  (712, 3) (712, 1)\n",
            "Test data =  (179, 3) (179,)\n",
            "Validation data =  (178, 3) (178, 1)\n"
          ]
        }
      ]
    },
    {
      "cell_type": "markdown",
      "source": [
        "**6.)** Evaluate the accuracy of your model on the testing data and report the results."
      ],
      "metadata": {
        "id": "VO4cgB32kW3W"
      }
    },
    {
      "cell_type": "code",
      "source": [
        "\n",
        "from sklearn.metrics import accuracy_score\n",
        "weights = np.random.randn(num_features, 1)\n",
        "\n",
        "# We are using the best hyperparameters that we chose above\n",
        "for i in range(best_iteration):\n",
        "  weights = gradient_descent(y_train, X_train, best_learning_rate, weights)\n",
        "\n",
        "\n",
        "# Predicting result\n",
        "def predict_result(xxx, weights):\n",
        "  res = np.dot(xxx, weights)\n",
        "  probs = sigmoid(res)\n",
        "\n",
        "  return [1 if i > 0.5 else 0 for i in probs]\n",
        "\n",
        "\n",
        "y_prediction = predict_result(X_test, weights)\n",
        "\n",
        "\n",
        "acc_score = accuracy_score(y_test, y_prediction)\n",
        "\n",
        "\n",
        "print(\"Accuracy is\", acc_score)\n"
      ],
      "metadata": {
        "colab": {
          "base_uri": "https://localhost:8080/"
        },
        "id": "SOlXS3yUhvMe",
        "outputId": "8a070ecd-487b-4d1b-9cd7-bae32905eda2"
      },
      "execution_count": null,
      "outputs": [
        {
          "output_type": "stream",
          "name": "stdout",
          "text": [
            "Accuracy is 0.7877094972067039\n"
          ]
        }
      ]
    }
  ]
}